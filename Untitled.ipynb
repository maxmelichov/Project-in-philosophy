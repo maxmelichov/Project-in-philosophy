{
 "cells": [
  {
   "cell_type": "code",
   "execution_count": null,
   "id": "5d89b795",
   "metadata": {},
   "outputs": [],
   "source": [
    "import fitz"
   ]
  },
  {
   "cell_type": "code",
   "execution_count": null,
   "id": "892858d7",
   "metadata": {},
   "outputs": [],
   "source": [
    "with fitz.open('[Martinus Nijhoff Philosophy Texts 2] J. N. Mohanty (auth.), William McKenna, Robert M. Harlan, Laurence E. Winters (eds.) - Apriori and World_ European Contributions.pdf') as doc:\n",
    "    text=''\n",
    "    i=0\n",
    "    for page in doc:\n",
    "        if i >= 10 and i <249:\n",
    "            text += page.get_text()\n",
    "            print(text)\n",
    "        i+=1\n",
    "file1=open(r\"C:\\Users\\maxme\\Desktop\\project in philosophy\\[Martinus Nijhoff Philosophy Texts 2] J. N. Mohanty (auth.), William McKenna, Robert M. Harlan, Laurence E. Winters (eds.) - Apriori and World_ European Contributions.txt\",\"a\")\n",
    "file1.writelines(text)"
   ]
  },
  {
   "cell_type": "code",
   "execution_count": null,
   "id": "2e3db875",
   "metadata": {},
   "outputs": [],
   "source": [
    "with fitz.open('Dilthey - The Formation of the Historical World in the Human Sciences.pdf') as doc:\n",
    "    text=''\n",
    "    i=0\n",
    "    for page in doc:\n",
    "        if i >= 31 and i <375:\n",
    "            text += page.get_text()\n",
    "            print(text)\n",
    "        i+=1\n",
    "\n",
    "file1=open(r\"C:\\Users\\maxme\\Desktop\\project in philosophy\\Dilthey - The Formation of the Historical World in the Human Sciences.txt\",\"a\")\n",
    "file1.writelines(text)"
   ]
  },
  {
   "cell_type": "code",
   "execution_count": null,
   "id": "37b620b0",
   "metadata": {},
   "outputs": [],
   "source": [
    "with fitz.open('066_Embree and Nenon. (2013) Husserls Ideen.pdf') as doc:\n",
    "    text=''\n",
    "    i=0\n",
    "    for page in doc:\n",
    "        if i >= 16 and i <479:\n",
    "            text += page.get_text()\n",
    "            print(text)\n",
    "        i+=1\n",
    "\n",
    "file1=open(r\"C:\\Users\\maxme\\Desktop\\project in philosophy\\066_Embree and Nenon. (2013) Husserls Ideen.txt\",\"a\")\n",
    "file1.writelines(text)"
   ]
  },
  {
   "cell_type": "code",
   "execution_count": null,
   "id": "509f42ca",
   "metadata": {},
   "outputs": [],
   "source": []
  }
 ],
 "metadata": {
  "interpreter": {
   "hash": "3a1d278aaeab8fa8668f5602e3aa519f0aedb80b52bfb1f84d82f6ef76886618"
  },
  "kernelspec": {
   "display_name": "Python 3.8.8 ('base')",
   "language": "python",
   "name": "python3"
  },
  "language_info": {
   "codemirror_mode": {
    "name": "ipython",
    "version": 3
   },
   "file_extension": ".py",
   "mimetype": "text/x-python",
   "name": "python",
   "nbconvert_exporter": "python",
   "pygments_lexer": "ipython3",
   "version": "3.8.8"
  }
 },
 "nbformat": 4,
 "nbformat_minor": 5
}
